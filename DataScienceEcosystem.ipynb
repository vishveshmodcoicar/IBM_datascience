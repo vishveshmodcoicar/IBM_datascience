{
 "cells": [
  {
   "cell_type": "markdown",
   "id": "607542c4-a196-4c06-a87d-9440befd6792",
   "metadata": {},
   "source": [
    "# Data Science Tools and Ecosystem"
   ]
  },
  {
   "cell_type": "markdown",
   "id": "ba2a35ca-dff8-4347-ac2a-2da4eb0ed393",
   "metadata": {},
   "source": [
    "In this notebook, Data Science Tools and Ecosystem are summarized."
   ]
  },
  {
   "cell_type": "markdown",
   "id": "3b3609ea-fc81-43da-93fc-b77bbb1d68d2",
   "metadata": {},
   "source": [
    "Some of the popular languages that Data Scientists use are:"
   ]
  },
  {
   "cell_type": "code",
   "execution_count": 1,
   "id": "a22efbff-4ef2-4540-8729-588611e61b22",
   "metadata": {},
   "outputs": [
    {
     "name": "stdout",
     "output_type": "stream",
     "text": [
      "['Python', 'R', 'Javascript', 'Java', 'Julia', 'Java']\n"
     ]
    }
   ],
   "source": [
    "l1=[\"Python\",\"R\",\"Javascript\",\"Java\",\"Julia\",\"Java\"]\n",
    "print(l1)"
   ]
  },
  {
   "cell_type": "markdown",
   "id": "223e12a6-c231-4595-acef-6595f6492f78",
   "metadata": {},
   "source": [
    "Some of the commonly used libraries used by Data Scientists include:"
   ]
  },
  {
   "cell_type": "code",
   "execution_count": 2,
   "id": "0de11b64-53ca-4191-b032-7656bc64352f",
   "metadata": {},
   "outputs": [
    {
     "name": "stdout",
     "output_type": "stream",
     "text": [
      "['NumPy', 'TensorFlow', 'SciPy', 'Pandas', 'Matplotlib', 'Keras']\n"
     ]
    }
   ],
   "source": [
    "l2=[\"NumPy\",\"TensorFlow\",\"SciPy\",\"Pandas\",\"Matplotlib\",\"Keras\"]\n",
    "print(l2)"
   ]
  },
  {
   "cell_type": "markdown",
   "id": "0e4e546f-7f91-4373-9112-9f063d33a24d",
   "metadata": {},
   "source": [
    "# Data Science Tools"
   ]
  },
  {
   "cell_type": "markdown",
   "id": "e20f6fa9-220f-4cd3-85e4-d8b9eab180ad",
   "metadata": {},
   "source": [
    "|Data Science Tools|\n",
    "|:----------------:|\n",
    "| Pandas           | \n",
    "| MATLAB           | \n",
    "| Tableau          |\n"
   ]
  },
  {
   "cell_type": "markdown",
   "id": "dd99cb07-de52-4a40-9343-61145ece9796",
   "metadata": {},
   "source": [
    "### Below are a few examples of evaluating arithmetic expressions in Python"
   ]
  },
  {
   "cell_type": "markdown",
   "id": "279bd2bb-584a-414b-a778-217883188377",
   "metadata": {},
   "source": [
    "### Arithmetic Expressions in Python\n",
    "\n",
    "Here are a few examples of common arithmetic operations:"
   ]
  },
  {
   "cell_type": "code",
   "execution_count": 1,
   "id": "326b44e7-ffcb-40d0-9a20-b09a89cd9245",
   "metadata": {},
   "outputs": [
    {
     "name": "stdout",
     "output_type": "stream",
     "text": [
      "20\n"
     ]
    }
   ],
   "source": [
    "# Addition\n",
    "a=10\n",
    "b=10\n",
    "print(a+b)"
   ]
  },
  {
   "cell_type": "code",
   "execution_count": 2,
   "id": "7c21ea12-3dbf-46da-82e1-1c66d4f40a9e",
   "metadata": {},
   "outputs": [
    {
     "name": "stdout",
     "output_type": "stream",
     "text": [
      "0\n"
     ]
    }
   ],
   "source": [
    "#Subtraction\n",
    "print(a-b)"
   ]
  },
  {
   "cell_type": "code",
   "execution_count": 3,
   "id": "c3ca6f00-216b-43e9-87a7-6dee2d6a97c2",
   "metadata": {},
   "outputs": [
    {
     "name": "stdout",
     "output_type": "stream",
     "text": [
      "100\n"
     ]
    }
   ],
   "source": [
    "#Multiplication\n",
    "print(a*b)"
   ]
  },
  {
   "cell_type": "code",
   "execution_count": 4,
   "id": "63b9b833-8517-4307-ac35-c017972056d4",
   "metadata": {},
   "outputs": [
    {
     "name": "stdout",
     "output_type": "stream",
     "text": [
      "1.0\n"
     ]
    }
   ],
   "source": [
    "#Division\n",
    "print(a/b)"
   ]
  },
  {
   "cell_type": "code",
   "execution_count": 5,
   "id": "ef323657-389f-4e4b-98fe-23523c5fadeb",
   "metadata": {},
   "outputs": [
    {
     "name": "stdout",
     "output_type": "stream",
     "text": [
      "0\n"
     ]
    }
   ],
   "source": [
    "#Modulus\n",
    "print(a%b)"
   ]
  },
  {
   "cell_type": "code",
   "execution_count": 6,
   "id": "79b79a2f-3822-4f77-8493-2982ba84c427",
   "metadata": {},
   "outputs": [
    {
     "name": "stdout",
     "output_type": "stream",
     "text": [
      "10000000000\n"
     ]
    }
   ],
   "source": [
    "#Exponentiation\n",
    "print(a**b)"
   ]
  },
  {
   "cell_type": "code",
   "execution_count": 7,
   "id": "a5e2e17e-f5c5-4478-8717-6f467953e169",
   "metadata": {},
   "outputs": [
    {
     "name": "stdout",
     "output_type": "stream",
     "text": [
      "17\n"
     ]
    }
   ],
   "source": [
    "#This a simple arithmetic expression to mutiply then add integers\n",
    "print((3*4)+5)"
   ]
  },
  {
   "cell_type": "code",
   "execution_count": 8,
   "id": "659cc070-9454-406a-9236-f92c1a951dd7",
   "metadata": {},
   "outputs": [
    {
     "name": "stdout",
     "output_type": "stream",
     "text": [
      "3.3333333333333335\n"
     ]
    }
   ],
   "source": [
    "#This will convert 200 minutes to hours by diving by 60\n",
    "m=200\n",
    "h=m/60\n",
    "print(h)"
   ]
  },
  {
   "cell_type": "markdown",
   "id": "53615c8a-1470-49ab-bc1c-8528106ab6c9",
   "metadata": {},
   "source": [
    "**Objectives:**\n",
    "\n",
    "In this notebook, we covered the following takeaways:\n",
    "\n",
    "- Understand basic arithmetic expressions in Python.\n",
    "- Use simple expressions to convert time units, such as minutes to hours.\n",
    "- Explore different types of arithmetic operators (addition, subtraction, multiplication, division, etc.).\n",
    "- Overall, learn more about different Data Science Tools and their applications.\n"
   ]
  },
  {
   "cell_type": "markdown",
   "id": "5c4df07e-601e-4219-a982-af038c0e4be6",
   "metadata": {},
   "source": [
    "## Author\n",
    "Vishvesh Paresh Modcoicar"
   ]
  }
 ],
 "metadata": {
  "kernelspec": {
   "display_name": "Python 3 (ipykernel)",
   "language": "python",
   "name": "python3"
  },
  "language_info": {
   "codemirror_mode": {
    "name": "ipython",
    "version": 3
   },
   "file_extension": ".py",
   "mimetype": "text/x-python",
   "name": "python",
   "nbconvert_exporter": "python",
   "pygments_lexer": "ipython3",
   "version": "3.12.4"
  }
 },
 "nbformat": 4,
 "nbformat_minor": 5
}
